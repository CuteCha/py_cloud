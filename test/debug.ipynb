{
 "cells": [
  {
   "cell_type": "code",
   "execution_count": 1,
   "metadata": {},
   "outputs": [],
   "source": [
    "from ipywidgets import interact\n",
    "import ipywidgets as widgets"
   ]
  },
  {
   "cell_type": "code",
   "execution_count": 2,
   "metadata": {},
   "outputs": [],
   "source": [
    "def f1(x):\n",
    "    return 2 * x\n"
   ]
  },
  {
   "cell_type": "code",
   "execution_count": 3,
   "metadata": {},
   "outputs": [
    {
     "data": {
      "application/vnd.jupyter.widget-view+json": {
       "model_id": "4c43a160009d4f4eb8d546dbef7632c6",
       "version_major": 2,
       "version_minor": 0
      },
      "text/plain": [
       "interactive(children=(IntSlider(value=10, description='x', max=30, min=-10), Output()), _dom_classes=('widget-…"
      ]
     },
     "metadata": {},
     "output_type": "display_data"
    },
    {
     "data": {
      "text/plain": [
       "<function __main__.f1(x)>"
      ]
     },
     "execution_count": 3,
     "metadata": {},
     "output_type": "execute_result"
    }
   ],
   "source": [
    "interact(f1, x=10)"
   ]
  },
  {
   "cell_type": "code",
   "execution_count": 5,
   "metadata": {},
   "outputs": [
    {
     "data": {
      "application/vnd.jupyter.widget-view+json": {
       "model_id": "76aa9603df464344b0884b202a8503ad",
       "version_major": 2,
       "version_minor": 0
      },
      "text/plain": [
       "interactive(children=(IntSlider(value=0, description='t', max=20000, step=100), Output()), _dom_classes=('widg…"
      ]
     },
     "metadata": {},
     "output_type": "display_data"
    },
    {
     "data": {
      "text/plain": [
       "<function __main__.animation(t)>"
      ]
     },
     "execution_count": 5,
     "metadata": {},
     "output_type": "execute_result"
    }
   ],
   "source": [
    "# imports\n",
    "import matplotlib.pyplot as plt\n",
    "import numpy as np\n",
    "import numpy.linalg as linalg\n",
    "import math\n",
    "from ipywidgets import *\n",
    "\n",
    "# Amount of elements\n",
    "N = 10\n",
    "# Amount of nodes\n",
    "n = N + 1\n",
    "# Element size\n",
    "h = 1.0 / N\n",
    "# Constant\n",
    "c = 0.4\n",
    "# Delta time\n",
    "dt = 0.001\n",
    "# Amount of iterations\n",
    "iterations = 20000\n",
    "# Stepsize\n",
    "stepSize = 100\n",
    "# Matrix construction\n",
    "# Time coefficient matrix\n",
    "T = np.zeros((n, n))\n",
    "T[0, 0] = 1  # Left boundary\n",
    "T[N, N] = 1  # Right boundary\n",
    "for i in range(1, N):\n",
    "    for j in range(0, N + 1):\n",
    "        if(i == j):\n",
    "            T[i, j] = (2.0 / 3.0) * h\n",
    "        if(abs(i - j) == 1):\n",
    "            T[i, j] = (1.0 / 6.0) * h  \n",
    "\n",
    "# Space coefficient matrix\n",
    "S = np.zeros((n, n))\n",
    "for i in range(1, N):\n",
    "    for j in range(0, N + 1):\n",
    "        if(i == j):\n",
    "            S[i, j] = (2.0 / h)\n",
    "        if(abs(i - j) == 1):\n",
    "            S[i, j] = -(1.0 / h)  \n",
    "\n",
    "# A single time step\n",
    "def iteration(v, vDer): \n",
    "    vNew = v + dt * vDer\n",
    "    q = -c * c * S @ v\n",
    "    r = linalg.solve(T, q)\n",
    "    vDerNew = vDer + dt * r\n",
    "    return (vNew, vDerNew)\n",
    "\n",
    "# The real solution \n",
    "def realU(x, t):\n",
    "    return np.cos(2 * np.pi * t) * np.sin(2 * np.pi * x)\n",
    "\n",
    "# The initial value of the finite element problem \n",
    "u = np.zeros((n, 1))\n",
    "uDer = np.zeros((n, 1))\n",
    "for i in range(0, n):\n",
    "    x = i * h\n",
    "    u[i] = realU(x, 0)\n",
    "\n",
    "# Real solution\n",
    "# The real solution \n",
    "def realU(x, t):\n",
    "    return np.cos(2 * np.pi * t) * np.sin(2 * np.pi * x)\n",
    "\n",
    "# The initial value of the finite element problem \n",
    "u = np.zeros((n, 1))\n",
    "uDer = np.zeros((n, 1))\n",
    "for i in range(0, n):\n",
    "    x = i * h\n",
    "    u[i] = realU(x, 0)\n",
    "\n",
    "# Interactive simulation\n",
    "data = []\n",
    "data.append(u)\n",
    "spacing = np.linspace(0.0, 1.0, n)\n",
    "bigspacing = np.linspace(0.0, 1.0, 100)\n",
    "for i in range(0, iterations):\n",
    "    (uNew, uDerNew) = iteration(u, uDer)\n",
    "    u = uNew\n",
    "    uDer = uDerNew\n",
    "    data.append(u)\n",
    "\n",
    "def animation(t):\n",
    "    plt.rcParams[\"figure.figsize\"] = (6,3)\n",
    "    axes = plt.gca()\n",
    "    axes.set_ylim([-1.5,1.5])\n",
    "    axes.set_xlim([0,1])\n",
    "    plt.title(\"t = \" + str(t*dt))\n",
    "    plt.ylabel(\"u(x,t)\")\n",
    "    plt.xlabel(\"x\")\n",
    "    plt.plot(bigspacing, realU(bigspacing, t*dt), \"r--\", label='Exact'); plt.plot(spacing, data[t], \"b-\", label='Numerical')\n",
    "    plt.legend()\n",
    "    \n",
    "interact(animation, t = widgets.IntSlider(min = 0, max = iterations, step = stepSize, value = 0))\n"
   ]
  },
  {
   "cell_type": "code",
   "execution_count": 6,
   "metadata": {},
   "outputs": [
    {
     "name": "stdout",
     "output_type": "stream",
     "text": [
      "[0, 333, 666, 1000, 3250]\n"
     ]
    },
    {
     "name": "stderr",
     "output_type": "stream",
     "text": [
      "<ipython-input-6-f659876018c2>:6: MatplotlibDeprecationWarning: Passing non-integers as three-element position specification is deprecated since 3.3 and will be removed two minor releases later.\n",
      "  ax1 = plt.subplot(\"511\")\n",
      "<ipython-input-6-f659876018c2>:18: MatplotlibDeprecationWarning: Passing non-integers as three-element position specification is deprecated since 3.3 and will be removed two minor releases later.\n",
      "  ax2 = plt.subplot(\"512\", sharex=ax1)\n",
      "<ipython-input-6-f659876018c2>:28: MatplotlibDeprecationWarning: Passing non-integers as three-element position specification is deprecated since 3.3 and will be removed two minor releases later.\n",
      "  ax3 = plt.subplot(\"513\", sharex=ax1)\n",
      "<ipython-input-6-f659876018c2>:38: MatplotlibDeprecationWarning: Passing non-integers as three-element position specification is deprecated since 3.3 and will be removed two minor releases later.\n",
      "  ax4 = plt.subplot(\"514\", sharex=ax1)\n",
      "<ipython-input-6-f659876018c2>:48: MatplotlibDeprecationWarning: Passing non-integers as three-element position specification is deprecated since 3.3 and will be removed two minor releases later.\n",
      "  ax5 = plt.subplot(\"515\", sharex=ax1)\n"
     ]
    },
    {
     "data": {
      "text/plain": [
       "Text(-0.25, 0.1, 'u(x,t)')"
      ]
     },
     "execution_count": 6,
     "metadata": {},
     "output_type": "execute_result"
    },
    {
     "data": {
      "image/png": "[encoded data removed]",
      "text/plain": [
       "<Figure size 216x864 with 5 Axes>"
      ]
     },
     "metadata": {
      "needs_background": "light"
     },
     "output_type": "display_data"
    }
   ],
   "source": [
    "# Static plot\n",
    "plt.rcParams[\"figure.figsize\"] = (3,12)\n",
    "timespace = [0, (int)(1.0/(3.0*dt)), (int)(2.0/(3.0*dt)), (int)(1.0/dt), (int)(3.25/dt)]; print(timespace)\n",
    "plt.subplots_adjust(hspace=.0)\n",
    "\n",
    "ax1 = plt.subplot(\"511\")\n",
    "ax1.set_ylim([-1.1,1.1])\n",
    "ax1.set_xlim([0,1])\n",
    "plt.plot(bigspacing, realU(bigspacing, timespace[0]*dt), \"r--\", label='actual')\n",
    "plt.plot(spacing, data[timespace[0]], \"bo\")\n",
    "plt.plot(spacing, data[timespace[0]], \"b-\", label=\"numerical\")\n",
    "plt.text(-0.55,0,\"t=\"+str(dt*timespace[0]))\n",
    "plt.text(-0.25,0.1,\"u(x,t)\", rotation=90)\n",
    "plt.text(0.475, 1.4, \"x\")\n",
    "plt.legend(bbox_to_anchor=(0.5, 1.2, 0., 0.1), loc=3, ncol=2, mode=\"expand\", borderaxespad=0.)\n",
    "ax1.xaxis.tick_top()\n",
    "\n",
    "ax2 = plt.subplot(\"512\", sharex=ax1)\n",
    "ax2.set_ylim([-1.1,1.1])\n",
    "ax2.set_xlim([0,1])\n",
    "plt.plot(bigspacing, realU(bigspacing, timespace[1]*dt), \"r--\")\n",
    "plt.plot(spacing, data[timespace[1]], \"bo\")\n",
    "plt.plot(spacing, data[timespace[1]], \"b-\")\n",
    "plt.text(-0.55,0,\"t=\"+str(dt*timespace[1]))\n",
    "plt.text(-0.25,0.1,\"u(x,t)\", rotation=90)\n",
    "plt.setp(ax2.get_xticklabels(), visible=False)\n",
    "\n",
    "ax3 = plt.subplot(\"513\", sharex=ax1)\n",
    "ax3.set_ylim([-1.1,1.1])\n",
    "ax3.set_xlim([0,1])\n",
    "plt.plot(bigspacing, realU(bigspacing, timespace[2]*dt), \"r--\")\n",
    "plt.plot(spacing, data[timespace[2]], \"bo\")\n",
    "plt.plot(spacing, data[timespace[2]], \"b-\")\n",
    "plt.text(-0.55,0,\"t=\"+str(dt*timespace[2]))\n",
    "plt.text(-0.25,0.1,\"u(x,t)\", rotation=90)\n",
    "plt.setp(ax3.get_xticklabels(), visible=False)\n",
    "\n",
    "ax4 = plt.subplot(\"514\", sharex=ax1)\n",
    "ax4.set_ylim([-1.1,1.1])\n",
    "ax4.set_xlim([0,1]);plt.plot(bigspacing, realU(bigspacing, timespace[3]*dt), \"r--\")\n",
    "plt.plot(spacing, data[timespace[3]], \"bo\")\n",
    "plt.plot(spacing, data[timespace[3]], \"b-\")\n",
    "plt.text(-0.55,0,\"t=\"+str(dt*timespace[3]))\n",
    "plt.text(-0.25,0.1,\"u(x,t)\", rotation=90)\n",
    "plt.setp(ax2.get_xticklabels(), visible=False)\n",
    "plt.setp(ax4.get_xticklabels(), visible=False)\n",
    "\n",
    "ax5 = plt.subplot(\"515\", sharex=ax1)\n",
    "ax5.set_ylim([-1.1,1.1])\n",
    "ax5.set_xlim([0,1])\n",
    "plt.plot(bigspacing, realU(bigspacing, timespace[4]*dt), \"r--\")\n",
    "plt.plot(spacing, data[timespace[4]], \"bo\")\n",
    "plt.plot(spacing, data[timespace[4]], \"b-\")\n",
    "plt.text(-0.55,0,\"t=\"+str(dt*timespace[4]))\n",
    "plt.text(-0.25,0.1,\"u(x,t)\", rotation=90)"
   ]
  }
 ],
 "metadata": {
  "kernelspec": {
   "display_name": "Python 3.8.5 ('base')",
   "language": "python",
   "name": "python3"
  },
  "language_info": {
   "codemirror_mode": {
    "name": "ipython",
    "version": 3
   },
   "file_extension": ".py",
   "mimetype": "text/x-python",
   "name": "python",
   "nbconvert_exporter": "python",
   "pygments_lexer": "ipython3",
   "version": "3.8.5"
  },
  "orig_nbformat": 4,
  "vscode": {
   "interpreter": {
    "hash": "390c2044feba1e033c8ef86f2a73be59562bc930ad82a4c2ab6d6f2e673b7af8"
   }
  }
 },
 "nbformat": 4,
 "nbformat_minor": 2
}
