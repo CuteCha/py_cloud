{
 "cells": [
  {
   "cell_type": "code",
   "execution_count": 5,
   "metadata": {},
   "outputs": [
    {
     "data": {
      "application/vnd.jupyter.widget-view+json": {
       "model_id": "97aa3d25f51d4158ac8262ee77c72af5",
       "version_major": 2,
       "version_minor": 0
      },
      "text/plain": [
       "interactive(children=(IntSlider(value=10, description='x', max=30, min=-10), Output()), _dom_classes=('widget-…"
      ]
     },
     "metadata": {},
     "output_type": "display_data"
    },
    {
     "data": {
      "text/plain": [
       "<function __main__.f1(x)>"
      ]
     },
     "execution_count": 5,
     "metadata": {},
     "output_type": "execute_result"
    }
   ],
   "source": [
    "from ipywidgets import interact\n",
    "\n",
    "\n",
    "def f1(x):\n",
    "    return 2 * x\n",
    "\n",
    "\n",
    "interact(f1, x=10)\n"
   ]
  },
  {
   "cell_type": "code",
   "execution_count": 2,
   "metadata": {},
   "outputs": [
    {
     "data": {
      "application/vnd.jupyter.widget-view+json": {
       "model_id": "aba130c6c71948ce8c1bf8184ece4716",
       "version_major": 2,
       "version_minor": 0
      },
      "text/plain": [
       "interactive(children=(IntSlider(value=0, description='t', max=20000, step=100), Output()), _dom_classes=('widg…"
      ]
     },
     "metadata": {},
     "output_type": "display_data"
    },
    {
     "data": {
      "text/plain": [
       "<function __main__.animation(t)>"
      ]
     },
     "execution_count": 2,
     "metadata": {},
     "output_type": "execute_result"
    }
   ],
   "source": [
    "import matplotlib.pyplot as plt\n",
    "import numpy as np\n",
    "import numpy.linalg as linalg\n",
    "import math\n",
    "from ipywidgets import interact, widgets\n",
    "\n",
    "# Amount of elements\n",
    "N = 10\n",
    "# Amount of nodes\n",
    "n = N + 1\n",
    "# Element size\n",
    "h = 1.0 / N\n",
    "# Constant\n",
    "c = 0.4\n",
    "# Delta time\n",
    "dt = 0.001\n",
    "# Amount of iterations\n",
    "iterations = 20000\n",
    "# Stepsize\n",
    "stepSize = 100\n",
    "# Matrix construction\n",
    "# Time coefficient matrix\n",
    "T = np.zeros((n, n))\n",
    "T[0, 0] = 1  # Left boundary\n",
    "T[N, N] = 1  # Right boundary\n",
    "for i in range(1, N):\n",
    "    for j in range(0, N + 1):\n",
    "        if(i == j):\n",
    "            T[i, j] = (2.0 / 3.0) * h\n",
    "        if(abs(i - j) == 1):\n",
    "            T[i, j] = (1.0 / 6.0) * h\n",
    "\n",
    "# Space coefficient matrix\n",
    "S = np.zeros((n, n))\n",
    "for i in range(1, N):\n",
    "    for j in range(0, N + 1):\n",
    "        if(i == j):\n",
    "            S[i, j] = (2.0 / h)\n",
    "        if(abs(i - j) == 1):\n",
    "            S[i, j] = -(1.0 / h)\n",
    "\n",
    "# A single time step\n",
    "def iteration(v, vDer):\n",
    "    vNew = v + dt * vDer\n",
    "    q = -c * c * S @ v\n",
    "    r = linalg.solve(T, q)\n",
    "    vDerNew = vDer + dt * r\n",
    "    return (vNew, vDerNew)\n",
    "\n",
    "# The real solution\n",
    "def realU(x, t):\n",
    "    return np.cos(2 * np.pi * t) * np.sin(2 * np.pi * x)\n",
    "\n",
    "\n",
    "# The initial value of the finite element problem\n",
    "u = np.zeros((n, 1))\n",
    "uDer = np.zeros((n, 1))\n",
    "for i in range(0, n):\n",
    "    x = i * h\n",
    "    u[i] = realU(x, 0)\n",
    "\n",
    "\n",
    "# Real solution\n",
    "# The real solution\n",
    "def realU(x, t):\n",
    "    return np.cos(2 * np.pi * t) * np.sin(2 * np.pi * x)\n",
    "\n",
    "\n",
    "# The initial value of the finite element problem\n",
    "u = np.zeros((n, 1))\n",
    "uDer = np.zeros((n, 1))\n",
    "for i in range(0, n):\n",
    "    x = i * h\n",
    "    u[i] = realU(x, 0)\n",
    "\n",
    "# Interactive simulation\n",
    "data = []\n",
    "data.append(u)\n",
    "spacing = np.linspace(0.0, 1.0, n)\n",
    "bigspacing = np.linspace(0.0, 1.0, 100)\n",
    "for i in range(0, iterations):\n",
    "    (uNew, uDerNew) = iteration(u, uDer)\n",
    "    u = uNew\n",
    "    uDer = uDerNew\n",
    "    data.append(u)\n",
    "\n",
    "\n",
    "def animation(t):\n",
    "    plt.rcParams[\"figure.figsize\"] = (6, 3)\n",
    "    axes = plt.gca()\n",
    "    axes.set_ylim([-1.5, 1.5])\n",
    "    axes.set_xlim([0, 1])\n",
    "    plt.title(\"t = \" + str(t * dt))\n",
    "    plt.ylabel(\"u(x,t)\")\n",
    "    plt.xlabel(\"x\")\n",
    "    plt.plot(bigspacing, realU(bigspacing, t * dt), \"r--\", label='Exact')\n",
    "    plt.plot(spacing, data[t], \"b-\", label='Numerical')\n",
    "    plt.legend()\n",
    "\n",
    "\n",
    "interact(animation, t=widgets.IntSlider(min=0, max=iterations, step=stepSize, value=0))\n"
   ]
  },
  {
   "cell_type": "code",
   "execution_count": 3,
   "metadata": {},
   "outputs": [
    {
     "name": "stdout",
     "output_type": "stream",
     "text": [
      "[0, 333, 666, 1000, 3250]\n"
     ]
    },
    {
     "name": "stderr",
     "output_type": "stream",
     "text": [
      "<ipython-input-3-f659876018c2>:6: MatplotlibDeprecationWarning: Passing non-integers as three-element position specification is deprecated since 3.3 and will be removed two minor releases later.\n",
      "  ax1 = plt.subplot(\"511\")\n",
      "<ipython-input-3-f659876018c2>:18: MatplotlibDeprecationWarning: Passing non-integers as three-element position specification is deprecated since 3.3 and will be removed two minor releases later.\n",
      "  ax2 = plt.subplot(\"512\", sharex=ax1)\n",
      "<ipython-input-3-f659876018c2>:28: MatplotlibDeprecationWarning: Passing non-integers as three-element position specification is deprecated since 3.3 and will be removed two minor releases later.\n",
      "  ax3 = plt.subplot(\"513\", sharex=ax1)\n",
      "<ipython-input-3-f659876018c2>:38: MatplotlibDeprecationWarning: Passing non-integers as three-element position specification is deprecated since 3.3 and will be removed two minor releases later.\n",
      "  ax4 = plt.subplot(\"514\", sharex=ax1)\n",
      "<ipython-input-3-f659876018c2>:48: MatplotlibDeprecationWarning: Passing non-integers as three-element position specification is deprecated since 3.3 and will be removed two minor releases later.\n",
      "  ax5 = plt.subplot(\"515\", sharex=ax1)\n"
     ]
    },
    {
     "data": {
      "text/plain": [
       "Text(-0.25, 0.1, 'u(x,t)')"
      ]
     },
     "execution_count": 3,
     "metadata": {},
     "output_type": "execute_result"
    },
    {
     "data": {
      "image/png": "[encoded data removed]",
      "text/plain": [
       "<Figure size 216x864 with 5 Axes>"
      ]
     },
     "metadata": {
      "needs_background": "light"
     },
     "output_type": "display_data"
    }
   ],
   "source": [
    "# Static plot\n",
    "plt.rcParams[\"figure.figsize\"] = (3,12)\n",
    "timespace = [0, (int)(1.0/(3.0*dt)), (int)(2.0/(3.0*dt)), (int)(1.0/dt), (int)(3.25/dt)]; print(timespace)\n",
    "plt.subplots_adjust(hspace=.0)\n",
    "\n",
    "ax1 = plt.subplot(\"511\")\n",
    "ax1.set_ylim([-1.1,1.1])\n",
    "ax1.set_xlim([0,1])\n",
    "plt.plot(bigspacing, realU(bigspacing, timespace[0]*dt), \"r--\", label='actual')\n",
    "plt.plot(spacing, data[timespace[0]], \"bo\")\n",
    "plt.plot(spacing, data[timespace[0]], \"b-\", label=\"numerical\")\n",
    "plt.text(-0.55,0,\"t=\"+str(dt*timespace[0]))\n",
    "plt.text(-0.25,0.1,\"u(x,t)\", rotation=90)\n",
    "plt.text(0.475, 1.4, \"x\")\n",
    "plt.legend(bbox_to_anchor=(0.5, 1.2, 0., 0.1), loc=3, ncol=2, mode=\"expand\", borderaxespad=0.)\n",
    "ax1.xaxis.tick_top()\n",
    "\n",
    "ax2 = plt.subplot(\"512\", sharex=ax1)\n",
    "ax2.set_ylim([-1.1,1.1])\n",
    "ax2.set_xlim([0,1])\n",
    "plt.plot(bigspacing, realU(bigspacing, timespace[1]*dt), \"r--\")\n",
    "plt.plot(spacing, data[timespace[1]], \"bo\")\n",
    "plt.plot(spacing, data[timespace[1]], \"b-\")\n",
    "plt.text(-0.55,0,\"t=\"+str(dt*timespace[1]))\n",
    "plt.text(-0.25,0.1,\"u(x,t)\", rotation=90)\n",
    "plt.setp(ax2.get_xticklabels(), visible=False)\n",
    "\n",
    "ax3 = plt.subplot(\"513\", sharex=ax1)\n",
    "ax3.set_ylim([-1.1,1.1])\n",
    "ax3.set_xlim([0,1])\n",
    "plt.plot(bigspacing, realU(bigspacing, timespace[2]*dt), \"r--\")\n",
    "plt.plot(spacing, data[timespace[2]], \"bo\")\n",
    "plt.plot(spacing, data[timespace[2]], \"b-\")\n",
    "plt.text(-0.55,0,\"t=\"+str(dt*timespace[2]))\n",
    "plt.text(-0.25,0.1,\"u(x,t)\", rotation=90)\n",
    "plt.setp(ax3.get_xticklabels(), visible=False)\n",
    "\n",
    "ax4 = plt.subplot(\"514\", sharex=ax1)\n",
    "ax4.set_ylim([-1.1,1.1])\n",
    "ax4.set_xlim([0,1]);plt.plot(bigspacing, realU(bigspacing, timespace[3]*dt), \"r--\")\n",
    "plt.plot(spacing, data[timespace[3]], \"bo\")\n",
    "plt.plot(spacing, data[timespace[3]], \"b-\")\n",
    "plt.text(-0.55,0,\"t=\"+str(dt*timespace[3]))\n",
    "plt.text(-0.25,0.1,\"u(x,t)\", rotation=90)\n",
    "plt.setp(ax2.get_xticklabels(), visible=False)\n",
    "plt.setp(ax4.get_xticklabels(), visible=False)\n",
    "\n",
    "ax5 = plt.subplot(\"515\", sharex=ax1)\n",
    "ax5.set_ylim([-1.1,1.1])\n",
    "ax5.set_xlim([0,1])\n",
    "plt.plot(bigspacing, realU(bigspacing, timespace[4]*dt), \"r--\")\n",
    "plt.plot(spacing, data[timespace[4]], \"bo\")\n",
    "plt.plot(spacing, data[timespace[4]], \"b-\")\n",
    "plt.text(-0.55,0,\"t=\"+str(dt*timespace[4]))\n",
    "plt.text(-0.25,0.1,\"u(x,t)\", rotation=90)"
   ]
  },
  {
   "cell_type": "code",
   "execution_count": 18,
   "metadata": {},
   "outputs": [
    {
     "name": "stdout",
     "output_type": "stream",
     "text": [
      "implicit_iter: 20\n",
      "implicit_iter: 20\n",
      "implicit_iter: 19\n",
      "implicit_iter: 19\n",
      "implicit_iter: 18\n",
      "implicit_iter: 18\n",
      "implicit_iter: 17\n",
      "implicit_iter: 16\n",
      "implicit_iter: 16\n",
      "implicit_iter: 15\n",
      "implicit_iter: 15\n",
      "implicit_iter: 14\n",
      "implicit_iter: 13\n",
      "implicit_iter: 13\n",
      "implicit_iter: 12\n",
      "implicit_iter: 12\n",
      "implicit_iter: 11\n",
      "implicit_iter: 10\n",
      "implicit_iter: 10\n",
      "modified_iter: 11\n",
      "modified_iter: 11\n",
      "modified_iter: 10\n",
      "modified_iter: 10\n",
      "modified_iter: 9\n",
      "modified_iter: 9\n",
      "modified_iter: 9\n",
      "modified_iter: 8\n",
      "modified_iter: 8\n",
      "modified_iter: 8\n",
      "modified_iter: 7\n",
      "modified_iter: 7\n",
      "modified_iter: 7\n",
      "modified_iter: 6\n",
      "modified_iter: 6\n",
      "modified_iter: 5\n",
      "modified_iter: 5\n",
      "modified_iter: 5\n",
      "modified_iter: 4\n"
     ]
    },
    {
     "data": {
      "image/png": "[encoded data removed]",
      "text/plain": [
       "<Figure size 1152x576 with 1 Axes>"
      ]
     },
     "metadata": {
      "needs_background": "light"
     },
     "output_type": "display_data"
    }
   ],
   "source": [
    "import numpy as np\n",
    "import matplotlib.pyplot as plt\n",
    "\n",
    "\n",
    "def right_force(t, u):\n",
    "    return -5 * u\n",
    "\n",
    "\n",
    "def exact_u(t):\n",
    "    return np.exp(-5 * t)\n",
    "\n",
    "\n",
    "def euler(f, u0, t, h, N):\n",
    "    u_euler = []\n",
    "    u_euler.append(u0)\n",
    "    u_pre = u0\n",
    "    for n in range(1, N):\n",
    "        u_cur = u_pre + h * f(t[n], u_pre)\n",
    "        u_euler.append(u_cur)\n",
    "        u_pre = u_cur\n",
    "\n",
    "    return u_euler\n",
    "\n",
    "\n",
    "def implicit_iter(f, h, u_pre, t, n, eps):\n",
    "    u_cur0 = u_pre\n",
    "    du = 1.0\n",
    "    cnt = 0\n",
    "    while du > eps:\n",
    "        u_cur1 = u_pre + h * f(t[n], u_cur0)\n",
    "        du = np.abs(u_cur1 - u_cur0)\n",
    "        u_cur0 = u_cur1\n",
    "        cnt += 1\n",
    "\n",
    "    print(f\"implicit_iter: {cnt}\")\n",
    "\n",
    "    return u_cur1\n",
    "\n",
    "\n",
    "def implicit_euler(f, u0, t, h, N, eps):\n",
    "    u_implicit = []\n",
    "    u_implicit.append(u0)\n",
    "    u_pre = u0\n",
    "    for n in range(1, N):\n",
    "        u_cur = implicit_iter(f, h, u_pre, t, n, eps)\n",
    "        u_implicit.append(u_cur)\n",
    "        u_pre = u_cur\n",
    "\n",
    "    return u_implicit\n",
    "\n",
    "\n",
    "def modified_iter(f, h, u_pre, t, n, eps):\n",
    "    u_cur0 = u_pre\n",
    "    eata = h / 2\n",
    "    du = 1.0\n",
    "    cnt = 0\n",
    "    while du > eps:\n",
    "        u_cur1 = u_pre + eata * (f(t[n - 1], u_pre) + f(t[n], u_cur0))\n",
    "        du = np.abs(u_cur1 - u_cur0)\n",
    "        u_cur0 = u_cur1\n",
    "        cnt += 1\n",
    "\n",
    "    print(f\"modified_iter: {cnt}\")\n",
    "\n",
    "    return u_cur1\n",
    "\n",
    "\n",
    "def modified_euler(f, u0, t, h, N, eps):\n",
    "    u_modified = []\n",
    "    u_modified.append(u0)\n",
    "    u_pre = u0\n",
    "    for n in range(1, N):\n",
    "        u_cur = modified_iter(f, h, u_pre, t, n, eps)\n",
    "        u_modified.append(u_cur)\n",
    "        u_pre = u_cur\n",
    "\n",
    "    return u_modified\n",
    "\n",
    "\n",
    "u0 = 1\n",
    "h = 0.1\n",
    "T = 2\n",
    "t = np.arange(0, T, h)\n",
    "N = len(t)\n",
    "eps = 1e-6\n",
    "\n",
    "u_exact = exact_u(t)\n",
    "u_euler = euler(right_force, u0, t, h, N)\n",
    "u_implicit = implicit_euler(right_force, u0, t, h, N, eps)\n",
    "u_modified = modified_euler(right_force, u0, t, h, N, eps)\n",
    "\n",
    "\n",
    "plt.figure(figsize=(16, 8))\n",
    "\n",
    "plt.plot(t, u_exact, 'r--', label='exact')\n",
    "plt.plot(t, u_euler, 'gx', label='euler')\n",
    "plt.plot(t, u_implicit, 'md', label='implicit')\n",
    "plt.plot(t, u_modified, 'bo', label='modified')\n",
    "plt.xlabel(\"t\")\n",
    "plt.ylabel(\"u\")\n",
    "plt.title(\"diff eq numeric solution\")\n",
    "plt.legend(loc='upper right')\n",
    "plt.grid(True)\n"
   ]
  }
 ],
 "metadata": {
  "kernelspec": {
   "display_name": "Python 3.8.5 ('base')",
   "language": "python",
   "name": "python3"
  },
  "language_info": {
   "codemirror_mode": {
    "name": "ipython",
    "version": 3
   },
   "file_extension": ".py",
   "mimetype": "text/x-python",
   "name": "python",
   "nbconvert_exporter": "python",
   "pygments_lexer": "ipython3",
   "version": "3.8.5"
  },
  "orig_nbformat": 4,
  "vscode": {
   "interpreter": {
    "hash": "390c2044feba1e033c8ef86f2a73be59562bc930ad82a4c2ab6d6f2e673b7af8"
   }
  }
 },
 "nbformat": 4,
 "nbformat_minor": 2
}