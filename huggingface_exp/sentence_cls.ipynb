{
 "cells": [
  {
   "cell_type": "code",
   "execution_count": 1,
   "metadata": {},
   "outputs": [
    {
     "name": "stdout",
     "output_type": "stream",
     "text": [
      "/Users/cxq/code/py_cloud/huggingface_exp\n"
     ]
    }
   ],
   "source": [
    "import torch\n",
    "import datasets\n",
    "import os\n",
    "\n",
    "BASE_DIR = os.getcwd()\n",
    "print(BASE_DIR)\n"
   ]
  },
  {
   "cell_type": "code",
   "execution_count": 2,
   "metadata": {},
   "outputs": [],
   "source": [
    "class MyDataset(torch.utils.data.Dataset):\n",
    "    def __init__(self, split):\n",
    "        self.dataset = datasets.load_dataset(\n",
    "            \"json\",\n",
    "            data_files=f\"{BASE_DIR}/data/ChnSentiCorp.json\",\n",
    "            split=split)\n",
    "\n",
    "    def __len__(self):\n",
    "        return len(self.dataset)\n",
    "\n",
    "    def __getitem__(self, i):\n",
    "        text = self.dataset[i]['text']\n",
    "        label = self.dataset[i]['label']\n",
    "\n",
    "        return text, label\n"
   ]
  },
  {
   "cell_type": "code",
   "execution_count": 3,
   "metadata": {},
   "outputs": [
    {
     "name": "stderr",
     "output_type": "stream",
     "text": [
      "Found cached dataset json (/Users/cxq/.cache/huggingface/datasets/json/default-abe2463bdbc7aa6b/0.0.0/e347ab1c932092252e717ff3f949105a4dd28b27e842dd53157d2f72e276c2e4)\n"
     ]
    },
    {
     "name": "stdout",
     "output_type": "stream",
     "text": [
      "9600\n",
      "('选择珠江花园的原因就是方便，有电动扶梯直接到达海边，周围餐馆、食廊、商场、超市、摊位一应俱全。酒店装修一般，但还算整洁。 泳池在大堂的屋顶，因此很小，不过女儿倒是喜欢。 包的早餐是西式的，还算丰富。 服务吗，一般', 1)\n"
     ]
    }
   ],
   "source": [
    "ds_data = MyDataset(\"train\")\n",
    "print(len(ds_data))\n",
    "print(ds_data[0])"
   ]
  },
  {
   "cell_type": "code",
   "execution_count": 4,
   "metadata": {},
   "outputs": [],
   "source": [
    "from transformers import BertTokenizer\n",
    "token = BertTokenizer.from_pretrained('bert-base-chinese')\n",
    "\n",
    "def collate_fn(data):\n",
    "    sents = [i[0] for i in data]\n",
    "    labels = [i[1] for i in data]\n",
    "\n",
    "    data = token.batch_encode_plus(\n",
    "        batch_text_or_text_pairs=sents,\n",
    "        truncation=True,\n",
    "        padding='max_length',\n",
    "        max_length=500,\n",
    "        return_tensors='pt',\n",
    "        return_length=True\n",
    "    )\n",
    "\n",
    "    input_ids = data['input_ids']\n",
    "    attention_mask = data['attention_mask']\n",
    "    token_type_ids = data['token_type_ids']\n",
    "    labels = torch.LongTensor(labels)\n",
    "\n",
    "    return input_ids, attention_mask, token_type_ids, labels"
   ]
  },
  {
   "cell_type": "code",
   "execution_count": 5,
   "metadata": {},
   "outputs": [
    {
     "name": "stdout",
     "output_type": "stream",
     "text": [
      "600\n",
      "torch.Size([16, 500])\n",
      "torch.Size([16, 500])\n",
      "torch.Size([16, 500])\n",
      "tensor([1, 0, 0, 1, 1, 0, 0, 0, 0, 1, 1, 1, 0, 0, 0, 0])\n"
     ]
    }
   ],
   "source": [
    "ds_loader = torch.utils.data.DataLoader(\n",
    "    dataset=ds_data,\n",
    "    batch_size=16,\n",
    "    collate_fn=collate_fn,\n",
    "    shuffle=True,\n",
    "    drop_last=True\n",
    ")\n",
    "\n",
    "for i, (input_ids, attention_mask, token_type_ids, labels) in enumerate(ds_loader):\n",
    "    print(len(ds_loader))\n",
    "    print(input_ids.shape)\n",
    "    print(attention_mask.shape)\n",
    "    print(token_type_ids.shape)\n",
    "    print(labels)\n",
    "    break"
   ]
  },
  {
   "cell_type": "code",
   "execution_count": 7,
   "metadata": {},
   "outputs": [],
   "source": [
    "from transformers import BertModel\n",
    "\n",
    "\n",
    "class MyModel(torch.nn.Module):\n",
    "    def __init__(self):\n",
    "        super().__init__()\n",
    "        self.pretrained = BertModel.from_pretrained('bert-base-chinese')\n",
    "        self.fc = torch.nn.Linear(768, 2)\n",
    "\n",
    "    def forward(self, input_ids, attention_mask, token_type_ids):\n",
    "        with torch.no_grad():\n",
    "            out = self.pretrained(\n",
    "                input_ids=input_ids,\n",
    "                attention_mask=attention_mask,\n",
    "                token_type_ids=token_type_ids\n",
    "            )\n",
    "\n",
    "        out = self.fc(out.last_hidden_state[:, 0])\n",
    "\n",
    "        return out.softmax(dim=1)"
   ]
  },
  {
   "cell_type": "code",
   "execution_count": 8,
   "metadata": {},
   "outputs": [
    {
     "name": "stderr",
     "output_type": "stream",
     "text": [
      "Some weights of the model checkpoint at bert-base-chinese were not used when initializing BertModel: ['cls.predictions.transform.LayerNorm.bias', 'cls.predictions.transform.LayerNorm.weight', 'cls.predictions.bias', 'cls.seq_relationship.bias', 'cls.seq_relationship.weight', 'cls.predictions.transform.dense.weight', 'cls.predictions.decoder.weight', 'cls.predictions.transform.dense.bias']\n",
      "- This IS expected if you are initializing BertModel from the checkpoint of a model trained on another task or with another architecture (e.g. initializing a BertForSequenceClassification model from a BertForPreTraining model).\n",
      "- This IS NOT expected if you are initializing BertModel from the checkpoint of a model that you expect to be exactly identical (initializing a BertForSequenceClassification model from a BertForSequenceClassification model).\n",
      "/Users/cxq/env/miniconda3/envs/python3.9/lib/python3.9/site-packages/transformers/optimization.py:391: FutureWarning: This implementation of AdamW is deprecated and will be removed in a future version. Use the PyTorch implementation torch.optim.AdamW instead, or set `no_deprecation_warning=True` to disable this warning\n",
      "  warnings.warn(\n"
     ]
    },
    {
     "name": "stdout",
     "output_type": "stream",
     "text": [
      "0 0.7347027063369751 0.3125\n",
      "5 0.6768629550933838 0.5\n",
      "10 0.6672183871269226 0.5625\n",
      "15 0.6262333393096924 0.75\n",
      "20 0.6419984102249146 0.75\n",
      "25 0.6250054240226746 0.8125\n",
      "30 0.6562329530715942 0.625\n"
     ]
    }
   ],
   "source": [
    "from transformers import AdamW\n",
    "\n",
    "model = MyModel()\n",
    "optimizer = AdamW(model.parameters(), lr=5e-4)\n",
    "criterion = torch.nn.CrossEntropyLoss()\n",
    "\n",
    "model.train()\n",
    "for i, (input_ids, attention_mask, token_type_ids, labels) in enumerate(ds_loader):\n",
    "    out = model(\n",
    "        input_ids=input_ids,\n",
    "        attention_mask=attention_mask,\n",
    "        token_type_ids=token_type_ids\n",
    "    )\n",
    "\n",
    "    loss = criterion(out, labels)\n",
    "    loss.backward()\n",
    "    optimizer.step()\n",
    "    optimizer.zero_grad()\n",
    "\n",
    "    if i % 5 == 0:\n",
    "        out = out.argmax(dim=1)\n",
    "        accuracy = (out == labels).sum().item() / len(labels)\n",
    "\n",
    "        print(i, loss.item(), accuracy)\n",
    "\n",
    "    if i == 30:\n",
    "        break"
   ]
  },
  {
   "cell_type": "code",
   "execution_count": 9,
   "metadata": {},
   "outputs": [],
   "source": [
    "def save_model(net, opt, ckpt_file):\n",
    "    torch.save({\n",
    "        'model_state_dict': net.state_dict(),\n",
    "        'optimizer_state_dict': opt.state_dict()\n",
    "    }, ckpt_file)\n",
    "\n",
    "\n",
    "def load_model(net, opt, ckpt_file):\n",
    "    ckpt = torch.load(ckpt_file)\n",
    "    net.load_state_dict(ckpt['model_state_dict'])\n",
    "    opt.load_state_dict(ckpt['optimizer_state_dict'])\n",
    "\n",
    "\n",
    "def evaluation(net, ds_loader):\n",
    "    net.eval()\n",
    "    correct = 0\n",
    "    total = 0\n",
    "\n",
    "    for i, (input_ids, attention_mask, token_type_ids, labels) in enumerate(ds_loader):\n",
    "        if i == 5:\n",
    "            break\n",
    "\n",
    "        with torch.no_grad():\n",
    "            out = net(\n",
    "                input_ids=input_ids,\n",
    "                attention_mask=attention_mask,\n",
    "                token_type_ids=token_type_ids\n",
    "            )\n",
    "\n",
    "        print(i, out, out.argmax(dim=1))\n",
    "\n",
    "        out = out.argmax(dim=1)\n",
    "        correct += (out == labels).sum().item()\n",
    "        total += len(labels)\n",
    "\n",
    "    print(correct / total)\n",
    "\n",
    "\n",
    "def inference(ds_loader):\n",
    "    net = MyModel()\n",
    "    opt = AdamW(model.parameters(), lr=5e-4)\n",
    "    load_model(net, opt, f\"{BASE_DIR}/logs/checkpoint/bert_cls.bin\")\n",
    "\n",
    "    net.eval()\n",
    "    for i, (input_ids, attention_mask, token_type_ids, labels) in enumerate(ds_loader):\n",
    "        if i == 5:\n",
    "            break\n",
    "\n",
    "        with torch.no_grad():\n",
    "            out = net(\n",
    "                input_ids=input_ids,\n",
    "                attention_mask=attention_mask,\n",
    "                token_type_ids=token_type_ids\n",
    "            )\n",
    "\n",
    "        print(i, out, out.argmax(dim=1))"
   ]
  },
  {
   "cell_type": "code",
   "execution_count": 10,
   "metadata": {},
   "outputs": [],
   "source": [
    "save_model(model, optimizer, f\"{BASE_DIR}/logs/checkpoint/bert_cls.bin\")"
   ]
  },
  {
   "cell_type": "code",
   "execution_count": 13,
   "metadata": {},
   "outputs": [
    {
     "name": "stdout",
     "output_type": "stream",
     "text": [
      "0 tensor([[0.2561, 0.7439]]) tensor([1])\n",
      "1 tensor([[0.2111, 0.7889]]) tensor([1])\n",
      "2 tensor([[0.8142, 0.1858]]) tensor([0])\n",
      "3 tensor([[0.8196, 0.1804]]) tensor([0])\n",
      "4 tensor([[0.7313, 0.2687]]) tensor([0])\n",
      "0.8\n",
      "------------------------------------------------------------------------\n"
     ]
    },
    {
     "name": "stderr",
     "output_type": "stream",
     "text": [
      "Some weights of the model checkpoint at bert-base-chinese were not used when initializing BertModel: ['cls.predictions.transform.LayerNorm.bias', 'cls.predictions.transform.LayerNorm.weight', 'cls.predictions.bias', 'cls.seq_relationship.bias', 'cls.seq_relationship.weight', 'cls.predictions.transform.dense.weight', 'cls.predictions.decoder.weight', 'cls.predictions.transform.dense.bias']\n",
      "- This IS expected if you are initializing BertModel from the checkpoint of a model trained on another task or with another architecture (e.g. initializing a BertForSequenceClassification model from a BertForPreTraining model).\n",
      "- This IS NOT expected if you are initializing BertModel from the checkpoint of a model that you expect to be exactly identical (initializing a BertForSequenceClassification model from a BertForSequenceClassification model).\n",
      "/Users/cxq/env/miniconda3/envs/python3.9/lib/python3.9/site-packages/transformers/optimization.py:391: FutureWarning: This implementation of AdamW is deprecated and will be removed in a future version. Use the PyTorch implementation torch.optim.AdamW instead, or set `no_deprecation_warning=True` to disable this warning\n",
      "  warnings.warn(\n"
     ]
    },
    {
     "name": "stdout",
     "output_type": "stream",
     "text": [
      "0 tensor([[0.2561, 0.7439]]) tensor([1])\n",
      "1 tensor([[0.2111, 0.7889]]) tensor([1])\n",
      "2 tensor([[0.8142, 0.1858]]) tensor([0])\n",
      "3 tensor([[0.8196, 0.1804]]) tensor([0])\n",
      "4 tensor([[0.7313, 0.2687]]) tensor([0])\n"
     ]
    }
   ],
   "source": [
    "ts0_loader = torch.utils.data.DataLoader(\n",
    "    dataset=ds_data,\n",
    "    batch_size=1,\n",
    "    collate_fn=collate_fn,\n",
    "    shuffle=False,\n",
    "    drop_last=True\n",
    ")\n",
    "evaluation(model, ts0_loader)\n",
    "print(\"-\" * 72)\n",
    "ts1_loader = torch.utils.data.DataLoader(\n",
    "    dataset=ds_data,\n",
    "    batch_size=1,\n",
    "    collate_fn=collate_fn,\n",
    "    shuffle=False,\n",
    "    drop_last=True\n",
    ")\n",
    "inference(ts1_loader)"
   ]
  },
  {
   "cell_type": "code",
   "execution_count": 21,
   "metadata": {},
   "outputs": [],
   "source": [
    "torch.save(model, f\"{BASE_DIR}/logs/checkpoint/bert_cls2.bin\")"
   ]
  },
  {
   "cell_type": "code",
   "execution_count": 22,
   "metadata": {},
   "outputs": [],
   "source": [
    "# MyModel需要先被import\n",
    "net2 = torch.load(f\"{BASE_DIR}/logs/checkpoint/bert_cls2.bin\") "
   ]
  },
  {
   "cell_type": "code",
   "execution_count": 23,
   "metadata": {},
   "outputs": [
    {
     "name": "stdout",
     "output_type": "stream",
     "text": [
      "0 tensor([[0.2561, 0.7439]]) tensor([1])\n",
      "1 tensor([[0.2111, 0.7889]]) tensor([1])\n",
      "2 tensor([[0.8142, 0.1858]]) tensor([0])\n",
      "3 tensor([[0.8196, 0.1804]]) tensor([0])\n",
      "4 tensor([[0.7313, 0.2687]]) tensor([0])\n"
     ]
    }
   ],
   "source": [
    "ts2_loader = torch.utils.data.DataLoader(\n",
    "    dataset=ds_data,\n",
    "    batch_size=1,\n",
    "    collate_fn=collate_fn,\n",
    "    shuffle=False,\n",
    "    drop_last=True\n",
    ")\n",
    "\n",
    "net2.eval()\n",
    "for i, (input_ids, attention_mask, token_type_ids, labels) in enumerate(ts2_loader):\n",
    "    if i == 5:\n",
    "        break\n",
    "\n",
    "    with torch.no_grad():\n",
    "        out = net2(\n",
    "            input_ids=input_ids,\n",
    "            attention_mask=attention_mask,\n",
    "            token_type_ids=token_type_ids\n",
    "        )\n",
    "\n",
    "    print(i, out, out.argmax(dim=1))"
   ]
  }
 ],
 "metadata": {
  "kernelspec": {
   "display_name": "python3.9",
   "language": "python",
   "name": "python3"
  },
  "language_info": {
   "codemirror_mode": {
    "name": "ipython",
    "version": 3
   },
   "file_extension": ".py",
   "mimetype": "text/x-python",
   "name": "python",
   "nbconvert_exporter": "python",
   "pygments_lexer": "ipython3",
   "version": "3.9.16"
  },
  "orig_nbformat": 4
 },
 "nbformat": 4,
 "nbformat_minor": 2
}
