{
 "cells": [
  {
   "cell_type": "code",
   "execution_count": 1,
   "metadata": {},
   "outputs": [],
   "source": [
    "import time\n",
    "import numpy as np\n",
    "from scipy.special import erfc\n",
    "import mfem.ser as mfem\n",
    "from mfem.ser import intArray\n",
    "from glvis import glvis"
   ]
  },
  {
   "cell_type": "code",
   "execution_count": 2,
   "metadata": {},
   "outputs": [],
   "source": [
    "order = 3\n",
    "vis_steps = 5\n",
    "sleep_interval = 0.05\n",
    "\n",
    "mesh = \"periodic-hexagon.mesh\"\n",
    "ref_levels = 2\n",
    "dt = 0.01\n",
    "t_final = 10\n",
    "\n",
    "ode_solver = mfem.RK4Solver()\n",
    "\n"
   ]
  },
  {
   "cell_type": "code",
   "execution_count": 3,
   "metadata": {},
   "outputs": [],
   "source": [
    "mesh_url = f\"https://raw.githubusercontent.com/mfem/mfem/master/data/{mesh}\"\n",
    "mesh_str = !curl -s {mesh_url}\n",
    "mesh_file = f\"./data/{mesh}\"\n",
    "with open(mesh_file, \"w\") as f:\n",
    "    f.write(\"\\n\".join(mesh_str))\n",
    "mesh = mfem.Mesh(mesh_file, 1,1)\n",
    "dim = mesh.Dimension()"
   ]
  },
  {
   "cell_type": "code",
   "execution_count": 4,
   "metadata": {},
   "outputs": [],
   "source": [
    "for lev in range(ref_levels):\n",
    "    mesh.UniformRefinement()\n",
    "    if mesh.NURBSext:\n",
    "        mesh.SetCurvature(max(order, 1))\n",
    "    bb_min, bb_max = mesh.GetBoundingBox(max(order, 1))"
   ]
  },
  {
   "cell_type": "code",
   "execution_count": 5,
   "metadata": {},
   "outputs": [
    {
     "name": "stdout",
     "output_type": "stream",
     "text": [
      "Number of unknowns: 3072\n"
     ]
    }
   ],
   "source": [
    "fec = mfem.DG_FECollection(order, dim)\n",
    "fes = mfem.FiniteElementSpace(mesh, fec)\n",
    "\n",
    "print(\"Number of unknowns: \" + str(fes.GetVSize()))\n",
    "\n",
    "class velocity_coeff(mfem.VectorPyCoefficient):\n",
    "    def EvalValue(self, x):        \n",
    "        dim = len(x)\n",
    "        \n",
    "        center = (bb_min + bb_max)/2.0\n",
    "        # map to the reference [-1,1] domain                \n",
    "        X = 2 * (x - center) / (bb_max - bb_min)\n",
    "        if dim == 1: v = [1.0,]\n",
    "        elif dim == 2: v = [np.sqrt(2./3.), np.sqrt(1./3)]\n",
    "        elif dim == 3: v = [np.sqrt(3./6.), np.sqrt(2./6), np.sqrt(1./6.)]\n",
    "        \n",
    "        return v\n",
    "      \n",
    "        \n",
    "class u0_coeff(mfem.PyCoefficient):\n",
    "    def EvalValue(self, x):        \n",
    "        dim = len(x)\n",
    "        center = (bb_min + bb_max)/2.0\n",
    "        # map to the reference [-1,1] domain        \n",
    "        X = 2 * (x - center) / (bb_max - bb_min)\n",
    "        if dim == 1:\n",
    "            return np.exp(-40. * (X[0]-0.5)**2)\n",
    "        elif (dim == 2 or dim == 3):\n",
    "            rx = 0.45 \n",
    "            ry = 0.25\n",
    "            cx = 0.\n",
    "            cy = -0.2\n",
    "            w = 10.\n",
    "            if dim == 3:\n",
    "                s = (1. + 0.25*np.cos(2 * np.pi * x[2]))\n",
    "                rx = rx * s\n",
    "                ry = ry * s\n",
    "            return ( erfc( w * (X[0]-cx-rx)) * erfc(-w*(X[0]-cx+rx)) *\n",
    "                        erfc( w * (X[1]-cy-ry)) * erfc(-w*(X[1]-cy+ry)) )/16\n",
    "        \n",
    "       \n",
    "        return 0.0\n",
    "\n",
    "class inflow_coeff(mfem.PyCoefficient):\n",
    "    def EvalValue(self, x):\n",
    "        return 0"
   ]
  },
  {
   "cell_type": "code",
   "execution_count": 6,
   "metadata": {},
   "outputs": [],
   "source": [
    "velocity = velocity_coeff(dim)\n",
    "inflow = inflow_coeff()\n",
    "u0 = u0_coeff()\n",
    "\n",
    "m = mfem.BilinearForm(fes)\n",
    "m.AddDomainIntegrator(mfem.MassIntegrator())\n",
    "k = mfem.BilinearForm(fes)\n",
    "k.AddDomainIntegrator(mfem.ConvectionIntegrator(velocity, -1.0))\n",
    "k.AddInteriorFaceIntegrator(mfem.TransposeIntegrator(mfem.DGTraceIntegrator(velocity, 1.0, -0.5)))\n",
    "k.AddBdrFaceIntegrator(mfem.TransposeIntegrator(mfem.DGTraceIntegrator(velocity, 1.0, -0.5)))\n",
    "b = mfem.LinearForm(fes)\n",
    "b.AddBdrFaceIntegrator(mfem.BoundaryFlowIntegrator(inflow, velocity, -1.0, -0.5))\n",
    "\n",
    "m.Assemble()\n",
    "m.Finalize()\n",
    "skip_zeros = 0\n",
    "k.Assemble(skip_zeros)\n",
    "k.Finalize(skip_zeros)\n",
    "b.Assemble()\n",
    "\n",
    "# Initial conditions\n",
    "u = mfem.GridFunction(fes)\n",
    "u.ProjectCoefficient(u0)"
   ]
  },
  {
   "cell_type": "code",
   "execution_count": 7,
   "metadata": {},
   "outputs": [
    {
     "data": {
      "application/vnd.jupyter.widget-view+json": {
       "model_id": "04aca197336c4bf7aabd99872c15ad0c",
       "version_major": 2,
       "version_minor": 0
      },
      "text/plain": [
       "glvis(data_str='MFEM mesh v1.0\\n\\n#\\n# MFEM Geometry Types (see mesh/geom.hpp):\\n#\\n# POINT       = 0\\n# SEGME…"
      ]
     },
     "metadata": {},
     "output_type": "display_data"
    },
    {
     "name": "stdout",
     "output_type": "stream",
     "text": [
      "time step: 1000, time: 1.00e+01\r"
     ]
    }
   ],
   "source": [
    "g = glvis((mesh, u))\n",
    "g.render()\n",
    "\n",
    "class FE_Evolution(mfem.PyTimeDependentOperator):\n",
    "    def __init__(self, M, K, b):\n",
    "        mfem.PyTimeDependentOperator.__init__(self, M.Size())\n",
    "        self.K = K        \n",
    "        self.M = M\n",
    "        self.b = b\n",
    "        self.z = mfem.Vector(M.Size())\n",
    "        self.zp = np.zeros(M.Size())\n",
    "        self.M_prec = mfem.DSmoother()        \n",
    "        self.M_solver = mfem.CGSolver()\n",
    "        self.M_solver.SetPreconditioner(self.M_prec)        \n",
    "        self.M_solver.SetOperator(M)\n",
    "        self.M_solver.iterative_mode = False\n",
    "        self.M_solver.SetRelTol(1e-9)\n",
    "        self.M_solver.SetAbsTol(0.0)\n",
    "        self.M_solver.SetMaxIter(100)\n",
    "        self.M_solver.SetPrintLevel(0)\n",
    "        \n",
    "    def Mult(self, x, y):\n",
    "        self.K.Mult(x, self.z)\n",
    "        self.z += b\n",
    "        self.M_solver.Mult(self.z, y)\n",
    "\n",
    "adv = FE_Evolution(m.SpMat(), k.SpMat(), b)\n",
    "\n",
    "ode_solver.Init(adv)\n",
    "t = 0.0\n",
    "ti = 0\n",
    "time.sleep(1)\n",
    "while True:\n",
    "    if t > t_final - dt/2: break\n",
    "    t, dt = ode_solver.Step(u, t, dt)\n",
    "    ti = ti + 1\n",
    "    if ti % vis_steps == 0:\n",
    "        g.update((mesh, u))\n",
    "        time.sleep(sleep_interval)\n",
    "        print(f\"time step: {ti}, time: {t:.2e}\", end=\"\\r\")"
   ]
  }
 ],
 "metadata": {
  "kernelspec": {
   "display_name": "Python 3.8.5 ('base')",
   "language": "python",
   "name": "python3"
  },
  "language_info": {
   "codemirror_mode": {
    "name": "ipython",
    "version": 3
   },
   "file_extension": ".py",
   "mimetype": "text/x-python",
   "name": "python",
   "nbconvert_exporter": "python",
   "pygments_lexer": "ipython3",
   "version": "3.8.5"
  },
  "orig_nbformat": 4,
  "vscode": {
   "interpreter": {
    "hash": "390c2044feba1e033c8ef86f2a73be59562bc930ad82a4c2ab6d6f2e673b7af8"
   }
  }
 },
 "nbformat": 4,
 "nbformat_minor": 2
}
