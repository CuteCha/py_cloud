{
 "cells": [
  {
   "cell_type": "code",
   "execution_count": 2,
   "metadata": {
    "collapsed": true
   },
   "outputs": [],
   "source": [
    "import mfem.ser as mfem\n",
    "from glvis import glvis, to_stream"
   ]
  },
  {
   "cell_type": "code",
   "execution_count": 3,
   "metadata": {},
   "outputs": [
    {
     "name": "stdout",
     "output_type": "stream",
     "text": [
      "Size of the linear system: 441\n"
     ]
    }
   ],
   "source": [
    "mesh = mfem.Mesh(5, 5, \"TRIANGLE\")\n",
    "mesh.UniformRefinement()\n",
    "\n",
    "# Create H1 finite element function space\n",
    "fec = mfem.H1_FECollection(2, mesh.Dimension()) # order=2\n",
    "fespace = mfem.FiniteElementSpace(mesh, fec)      \n",
    "\n",
    "# Determine essential degrees of freedom (the whole boundary here)\n",
    "ess_tdof_list = mfem.intArray()\n",
    "ess_bdr = mfem.intArray([1]*mesh.bdr_attributes.Size())\n",
    "fespace.GetEssentialTrueDofs(ess_bdr, ess_tdof_list)\n",
    "\n",
    "# Define Bilinear and Linear forms for the Laplace problem -Δu=1\n",
    "one = mfem.ConstantCoefficient(1.0)\n",
    "a = mfem.BilinearForm(fespace)\n",
    "a.AddDomainIntegrator(mfem.DiffusionIntegrator(one))\n",
    "a.Assemble()\n",
    "b = mfem.LinearForm(fespace)\n",
    "b.AddDomainIntegrator(mfem.DomainLFIntegrator(one))\n",
    "b.Assemble()\n",
    "\n",
    "# Create a grid function for the solution and initialize with 0\n",
    "x = mfem.GridFunction(fespace);\n",
    "x.Assign(0.0)\n",
    "\n",
    "# Form the linear system, AX=B, for the FEM discretization\n",
    "A = mfem.OperatorPtr()\n",
    "B = mfem.Vector()\n",
    "X = mfem.Vector()\n",
    "a.FormLinearSystem(ess_tdof_list, x, b, A, X, B);\n",
    "print(\"Size of the linear system: \" + str(A.Height()))\n",
    "\n",
    "# Solve the system using PCG solver and get the solution in x\n",
    "Asm = mfem.OperatorHandle2SparseMatrix(A)\n",
    "Msm = mfem.GSSmoother(Asm)\n",
    "mfem.PCG(Asm, Msm, B, X, 1, 200, 1e-12, 0.0)\n",
    "a.RecoverFEMSolution(X, b, x)"
   ]
  },
  {
   "cell_type": "code",
   "execution_count": 4,
   "metadata": {},
   "outputs": [
    {
     "data": {
      "application/vnd.jupyter.widget-view+json": {
       "model_id": "ba1c43c7c68c42fab28c60ca57927d3b",
       "version_major": 2,
       "version_minor": 0
      },
      "text/plain": [
       "glvis(data_str='MFEM mesh v1.0\\n\\n#\\n# MFEM Geometry Types (see mesh/geom.hpp):\\n#\\n# POINT       = 0\\n# SEGME…"
      ]
     },
     "metadata": {},
     "output_type": "display_data"
    }
   ],
   "source": [
    "glvis((mesh, x), 400, 400)"
   ]
  },
  {
   "cell_type": "code",
   "execution_count": 5,
   "metadata": {},
   "outputs": [
    {
     "data": {
      "application/vnd.jupyter.widget-view+json": {
       "model_id": "3e6b2880f8cb45e8b2726305e7b474bd",
       "version_major": 2,
       "version_minor": 0
      },
      "text/plain": [
       "glvis(data_str='MFEM mesh v1.0\\n\\n#\\n# MFEM Geometry Types (see mesh/geom.hpp):\\n#\\n# POINT       = 0\\n# SEGME…"
      ]
     },
     "metadata": {},
     "output_type": "display_data"
    }
   ],
   "source": [
    "g = glvis(to_stream(mesh,x) + 'keys ARjlmcbp*******')\n",
    "g.set_size(600, 400)\n",
    "g"
   ]
  }
 ],
 "metadata": {
  "kernelspec": {
   "display_name": "Python 3.8.5 ('base')",
   "language": "python",
   "name": "python3"
  },
  "language_info": {
   "codemirror_mode": {
    "name": "ipython",
    "version": 3
   },
   "file_extension": ".py",
   "mimetype": "text/x-python",
   "name": "python",
   "nbconvert_exporter": "python",
   "pygments_lexer": "ipython3",
   "version": "3.8.5"
  },
  "vscode": {
   "interpreter": {
    "hash": "390c2044feba1e033c8ef86f2a73be59562bc930ad82a4c2ab6d6f2e673b7af8"
   }
  }
 },
 "nbformat": 4,
 "nbformat_minor": 0
}
